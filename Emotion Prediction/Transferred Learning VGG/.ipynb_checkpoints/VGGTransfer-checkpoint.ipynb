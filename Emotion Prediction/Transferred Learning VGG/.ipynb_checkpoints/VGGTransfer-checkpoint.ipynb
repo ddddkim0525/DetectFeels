{
 "cells": [
  {
   "cell_type": "code",
   "execution_count": 1,
   "metadata": {},
   "outputs": [],
   "source": [
    "import tensorflow as tf\n",
    "import tensornets as nets\n",
    "import os"
   ]
  },
  {
   "cell_type": "code",
   "execution_count": 2,
   "metadata": {},
   "outputs": [],
   "source": [
    "CSV_COLUMNS=['emotion', 'pixels','Usage']\n",
    "CSV_COLUMN_DEFAULTS=[[0],[''],['']]\n",
    " \n",
    "def parse_csv(inputs):\n",
    "    row_columns=tf.expand_dims(inputs, -1)\n",
    "    columns=tf.decode_csv(row_columns, \n",
    "                          record_defaults=CSV_COLUMN_DEFAULTS, \n",
    "                          field_delim=',')\n",
    "    features=dict(zip(CSV_COLUMNS, columns))\n",
    "     \n",
    "    y=features['emotion']\n",
    "    y=tf.one_hot(y, depth = 7) \n",
    "    y=tf.reshape(y, [7])\n",
    " \n",
    "    x=features['pixels']\n",
    "    x=tf.string_split(x) \n",
    "    x=tf.sparse_tensor_to_dense(x, default_value='0') # tf.string_split() outputs a sparse matrix\n",
    "    x=tf.string_to_number(x)\n",
    "    x=tf.reshape(x, [48,48,1]) # add channel dimension\n",
    "    x=tf.image.grayscale_to_rgb(x) # replicate this dimension to get 3 identical channels\n",
    "    x=tf.image.resize_images(x, [224,224]) # resize image to 224*224\n",
    " \n",
    "    return x, y"
   ]
  },
  {
   "cell_type": "code",
   "execution_count": 3,
   "metadata": {},
   "outputs": [],
   "source": [
    "train_dataset=tf.data.TextLineDataset(\"fer2013.csv\") \\\n",
    "        .skip(1) \\\n",
    "        .map(parse_csv) \\\n",
    "        .shuffle(10000) \\\n",
    "        .repeat() \\\n",
    "        .batch(32) \\\n",
    "        .prefetch(1)"
   ]
  },
  {
   "cell_type": "code",
   "execution_count": 4,
   "metadata": {},
   "outputs": [],
   "source": [
    "valid_dataset=tf.data.TextLineDataset(\"kaggle.csv\") \\\n",
    "        .skip(1) \\\n",
    "        .map(parse_csv) \\\n",
    "        .repeat() \\\n",
    "        .batch(32) \\\n",
    "        .prefetch(1)"
   ]
  },
  {
   "cell_type": "code",
   "execution_count": 5,
   "metadata": {},
   "outputs": [],
   "source": [
    "iterator=tf.data.Iterator.from_structure(train_dataset.output_types, \n",
    "                                         train_dataset.output_shapes)\n",
    "x, y=iterator.get_next()\n",
    " \n",
    "training_init_op=iterator.make_initializer(train_dataset)\n",
    "validation_init_op=iterator.make_initializer(valid_dataset)"
   ]
  },
  {
   "cell_type": "code",
   "execution_count": 6,
   "metadata": {},
   "outputs": [],
   "source": [
    "is_train=tf.placeholder_with_default(False, shape=(), name=\"is_train\") # placeholder for is_training"
   ]
  },
  {
   "cell_type": "code",
   "execution_count": 7,
   "metadata": {},
   "outputs": [],
   "source": [
    "model=nets.VGG19(x, is_training=is_train, classes=7)\n",
    "train_list=model.get_weights() # get list of weights\n",
    "loss=tf.losses.softmax_cross_entropy(y, model)\n",
    "  \n",
    "accuracy, accuracy_op=tf.metrics.accuracy(tf.argmax(y, 1),tf.argmax(model,1)) # local vars"
   ]
  },
  {
   "cell_type": "code",
   "execution_count": 8,
   "metadata": {},
   "outputs": [],
   "source": [
    "update_ops=tf.get_collection(tf.GraphKeys.UPDATE_OPS) # update batch stats during training\n",
    "with tf.control_dependencies(update_ops):               # only train last 2 fc layer\n",
    "    train=tf.train.AdamOptimizer(1e-5).minimize(loss, var_list = train_list[34:]) "
   ]
  },
  {
   "cell_type": "code",
   "execution_count": 10,
   "metadata": {},
   "outputs": [
    {
     "name": "stdout",
     "output_type": "stream",
     "text": [
      "Accumulated validation accuracy is 8.85%\n",
      "Accumulated validation accuracy is 8.78%\n",
      "Accumulated validation accuracy is 8.87%\n",
      "Accumulated validation accuracy is 8.90%\n",
      "Accumulated validation accuracy is 8.98%\n",
      "Accumulated validation accuracy is 9.27%\n",
      "Accumulated validation accuracy is 9.79%\n",
      "Accumulated validation accuracy is 10.62%\n",
      "Accumulated validation accuracy is 11.74%\n",
      "Accumulated validation accuracy is 12.99%\n",
      "Accumulated validation accuracy is 14.20%\n",
      "Accumulated validation accuracy is 15.31%\n",
      "Accumulated validation accuracy is 16.29%\n",
      "Accumulated validation accuracy is 17.15%\n",
      "Accumulated validation accuracy is 17.92%\n",
      "Accumulated validation accuracy is 18.59%\n",
      "Accumulated validation accuracy is 19.20%\n",
      "Accumulated validation accuracy is 19.74%\n",
      "Accumulated validation accuracy is 20.23%\n",
      "Accumulated validation accuracy is 20.68%\n",
      "Accumulated validation accuracy is 21.09%\n",
      "Accumulated validation accuracy is 21.46%\n",
      "Accumulated validation accuracy is 21.81%\n",
      "Accumulated validation accuracy is 22.14%\n",
      "Accumulated validation accuracy is 22.46%\n",
      "Accumulated validation accuracy is 22.77%\n",
      "Accumulated validation accuracy is 23.08%\n",
      "Accumulated validation accuracy is 23.41%\n",
      "Accumulated validation accuracy is 23.74%\n",
      "Accumulated validation accuracy is 24.08%\n",
      "Accumulated validation accuracy is 24.42%\n",
      "Accumulated validation accuracy is 24.75%\n",
      "Accumulated validation accuracy is 25.07%\n",
      "Accumulated validation accuracy is 25.38%\n",
      "Accumulated validation accuracy is 25.67%\n",
      "Accumulated validation accuracy is 25.94%\n",
      "Accumulated validation accuracy is 26.20%\n",
      "Accumulated validation accuracy is 26.43%\n",
      "Accumulated validation accuracy is 26.65%\n",
      "Accumulated validation accuracy is 26.85%\n",
      "Accumulated validation accuracy is 27.05%\n",
      "Accumulated validation accuracy is 27.24%\n",
      "Accumulated validation accuracy is 27.43%\n",
      "Accumulated validation accuracy is 27.62%\n",
      "Accumulated validation accuracy is 27.80%\n",
      "Accumulated validation accuracy is 27.98%\n",
      "Accumulated validation accuracy is 28.14%\n",
      "Accumulated validation accuracy is 28.31%\n",
      "Accumulated validation accuracy is 28.46%\n",
      "Accumulated validation accuracy is 28.61%\n",
      "Accumulated validation accuracy is 28.74%\n",
      "Accumulated validation accuracy is 28.88%\n",
      "Accumulated validation accuracy is 29.01%\n",
      "Accumulated validation accuracy is 29.13%\n",
      "Accumulated validation accuracy is 29.25%\n",
      "Accumulated validation accuracy is 29.37%\n",
      "Accumulated validation accuracy is 29.49%\n",
      "Accumulated validation accuracy is 29.61%\n",
      "Accumulated validation accuracy is 29.73%\n",
      "Accumulated validation accuracy is 29.85%\n",
      "Accumulated validation accuracy is 29.96%\n",
      "Accumulated validation accuracy is 30.06%\n",
      "Accumulated validation accuracy is 30.17%\n",
      "Accumulated validation accuracy is 30.27%\n",
      "Accumulated validation accuracy is 30.36%\n"
     ]
    },
    {
     "ename": "KeyboardInterrupt",
     "evalue": "",
     "output_type": "error",
     "traceback": [
      "\u001b[0;31m---------------------------------------------------------------------------\u001b[0m",
      "\u001b[0;31mKeyboardInterrupt\u001b[0m                         Traceback (most recent call last)",
      "\u001b[0;32m<ipython-input-10-c72dbc412953>\u001b[0m in \u001b[0;36m<module>\u001b[0;34m()\u001b[0m\n\u001b[1;32m     19\u001b[0m             \u001b[0msess\u001b[0m\u001b[0;34m.\u001b[0m\u001b[0mrun\u001b[0m\u001b[0;34m(\u001b[0m\u001b[0mvalidation_init_op\u001b[0m\u001b[0;34m)\u001b[0m\u001b[0;34m\u001b[0m\u001b[0m\n\u001b[1;32m     20\u001b[0m             \u001b[0;32mfor\u001b[0m \u001b[0m_\u001b[0m \u001b[0;32min\u001b[0m \u001b[0mrange\u001b[0m\u001b[0;34m(\u001b[0m\u001b[0;36m120\u001b[0m\u001b[0;34m)\u001b[0m\u001b[0;34m:\u001b[0m \u001b[0;31m#\u001b[0m\u001b[0;34m\u001b[0m\u001b[0m\n\u001b[0;32m---> 21\u001b[0;31m                 \u001b[0msess\u001b[0m\u001b[0;34m.\u001b[0m\u001b[0mrun\u001b[0m\u001b[0;34m(\u001b[0m\u001b[0maccuracy_op\u001b[0m\u001b[0;34m,\u001b[0m \u001b[0;34m{\u001b[0m\u001b[0mis_train\u001b[0m\u001b[0;34m:\u001b[0m \u001b[0;32mFalse\u001b[0m\u001b[0;34m}\u001b[0m\u001b[0;34m)\u001b[0m\u001b[0;34m\u001b[0m\u001b[0m\n\u001b[0m\u001b[1;32m     22\u001b[0m \u001b[0;34m\u001b[0m\u001b[0m\n\u001b[1;32m     23\u001b[0m             \u001b[0mprint\u001b[0m\u001b[0;34m(\u001b[0m\u001b[0;34m\"Accumulated validation accuracy is {:.2f}%\"\u001b[0m\u001b[0;34m.\u001b[0m\u001b[0mformat\u001b[0m\u001b[0;34m(\u001b[0m\u001b[0msess\u001b[0m\u001b[0;34m.\u001b[0m\u001b[0mrun\u001b[0m\u001b[0;34m(\u001b[0m\u001b[0maccuracy\u001b[0m\u001b[0;34m)\u001b[0m\u001b[0;34m*\u001b[0m\u001b[0;36m100\u001b[0m\u001b[0;34m)\u001b[0m\u001b[0;34m)\u001b[0m\u001b[0;34m\u001b[0m\u001b[0m\n",
      "\u001b[0;32m~/anaconda3/envs/tensorflow/lib/python3.6/site-packages/tensorflow/python/client/session.py\u001b[0m in \u001b[0;36mrun\u001b[0;34m(self, fetches, feed_dict, options, run_metadata)\u001b[0m\n\u001b[1;32m    898\u001b[0m     \u001b[0;32mtry\u001b[0m\u001b[0;34m:\u001b[0m\u001b[0;34m\u001b[0m\u001b[0m\n\u001b[1;32m    899\u001b[0m       result = self._run(None, fetches, feed_dict, options_ptr,\n\u001b[0;32m--> 900\u001b[0;31m                          run_metadata_ptr)\n\u001b[0m\u001b[1;32m    901\u001b[0m       \u001b[0;32mif\u001b[0m \u001b[0mrun_metadata\u001b[0m\u001b[0;34m:\u001b[0m\u001b[0;34m\u001b[0m\u001b[0m\n\u001b[1;32m    902\u001b[0m         \u001b[0mproto_data\u001b[0m \u001b[0;34m=\u001b[0m \u001b[0mtf_session\u001b[0m\u001b[0;34m.\u001b[0m\u001b[0mTF_GetBuffer\u001b[0m\u001b[0;34m(\u001b[0m\u001b[0mrun_metadata_ptr\u001b[0m\u001b[0;34m)\u001b[0m\u001b[0;34m\u001b[0m\u001b[0m\n",
      "\u001b[0;32m~/anaconda3/envs/tensorflow/lib/python3.6/site-packages/tensorflow/python/client/session.py\u001b[0m in \u001b[0;36m_run\u001b[0;34m(self, handle, fetches, feed_dict, options, run_metadata)\u001b[0m\n\u001b[1;32m   1133\u001b[0m     \u001b[0;32mif\u001b[0m \u001b[0mfinal_fetches\u001b[0m \u001b[0;32mor\u001b[0m \u001b[0mfinal_targets\u001b[0m \u001b[0;32mor\u001b[0m \u001b[0;34m(\u001b[0m\u001b[0mhandle\u001b[0m \u001b[0;32mand\u001b[0m \u001b[0mfeed_dict_tensor\u001b[0m\u001b[0;34m)\u001b[0m\u001b[0;34m:\u001b[0m\u001b[0;34m\u001b[0m\u001b[0m\n\u001b[1;32m   1134\u001b[0m       results = self._do_run(handle, final_targets, final_fetches,\n\u001b[0;32m-> 1135\u001b[0;31m                              feed_dict_tensor, options, run_metadata)\n\u001b[0m\u001b[1;32m   1136\u001b[0m     \u001b[0;32melse\u001b[0m\u001b[0;34m:\u001b[0m\u001b[0;34m\u001b[0m\u001b[0m\n\u001b[1;32m   1137\u001b[0m       \u001b[0mresults\u001b[0m \u001b[0;34m=\u001b[0m \u001b[0;34m[\u001b[0m\u001b[0;34m]\u001b[0m\u001b[0;34m\u001b[0m\u001b[0m\n",
      "\u001b[0;32m~/anaconda3/envs/tensorflow/lib/python3.6/site-packages/tensorflow/python/client/session.py\u001b[0m in \u001b[0;36m_do_run\u001b[0;34m(self, handle, target_list, fetch_list, feed_dict, options, run_metadata)\u001b[0m\n\u001b[1;32m   1314\u001b[0m     \u001b[0;32mif\u001b[0m \u001b[0mhandle\u001b[0m \u001b[0;32mis\u001b[0m \u001b[0;32mNone\u001b[0m\u001b[0;34m:\u001b[0m\u001b[0;34m\u001b[0m\u001b[0m\n\u001b[1;32m   1315\u001b[0m       return self._do_call(_run_fn, feeds, fetches, targets, options,\n\u001b[0;32m-> 1316\u001b[0;31m                            run_metadata)\n\u001b[0m\u001b[1;32m   1317\u001b[0m     \u001b[0;32melse\u001b[0m\u001b[0;34m:\u001b[0m\u001b[0;34m\u001b[0m\u001b[0m\n\u001b[1;32m   1318\u001b[0m       \u001b[0;32mreturn\u001b[0m \u001b[0mself\u001b[0m\u001b[0;34m.\u001b[0m\u001b[0m_do_call\u001b[0m\u001b[0;34m(\u001b[0m\u001b[0m_prun_fn\u001b[0m\u001b[0;34m,\u001b[0m \u001b[0mhandle\u001b[0m\u001b[0;34m,\u001b[0m \u001b[0mfeeds\u001b[0m\u001b[0;34m,\u001b[0m \u001b[0mfetches\u001b[0m\u001b[0;34m)\u001b[0m\u001b[0;34m\u001b[0m\u001b[0m\n",
      "\u001b[0;32m~/anaconda3/envs/tensorflow/lib/python3.6/site-packages/tensorflow/python/client/session.py\u001b[0m in \u001b[0;36m_do_call\u001b[0;34m(self, fn, *args)\u001b[0m\n\u001b[1;32m   1320\u001b[0m   \u001b[0;32mdef\u001b[0m \u001b[0m_do_call\u001b[0m\u001b[0;34m(\u001b[0m\u001b[0mself\u001b[0m\u001b[0;34m,\u001b[0m \u001b[0mfn\u001b[0m\u001b[0;34m,\u001b[0m \u001b[0;34m*\u001b[0m\u001b[0margs\u001b[0m\u001b[0;34m)\u001b[0m\u001b[0;34m:\u001b[0m\u001b[0;34m\u001b[0m\u001b[0m\n\u001b[1;32m   1321\u001b[0m     \u001b[0;32mtry\u001b[0m\u001b[0;34m:\u001b[0m\u001b[0;34m\u001b[0m\u001b[0m\n\u001b[0;32m-> 1322\u001b[0;31m       \u001b[0;32mreturn\u001b[0m \u001b[0mfn\u001b[0m\u001b[0;34m(\u001b[0m\u001b[0;34m*\u001b[0m\u001b[0margs\u001b[0m\u001b[0;34m)\u001b[0m\u001b[0;34m\u001b[0m\u001b[0m\n\u001b[0m\u001b[1;32m   1323\u001b[0m     \u001b[0;32mexcept\u001b[0m \u001b[0merrors\u001b[0m\u001b[0;34m.\u001b[0m\u001b[0mOpError\u001b[0m \u001b[0;32mas\u001b[0m \u001b[0me\u001b[0m\u001b[0;34m:\u001b[0m\u001b[0;34m\u001b[0m\u001b[0m\n\u001b[1;32m   1324\u001b[0m       \u001b[0mmessage\u001b[0m \u001b[0;34m=\u001b[0m \u001b[0mcompat\u001b[0m\u001b[0;34m.\u001b[0m\u001b[0mas_text\u001b[0m\u001b[0;34m(\u001b[0m\u001b[0me\u001b[0m\u001b[0;34m.\u001b[0m\u001b[0mmessage\u001b[0m\u001b[0;34m)\u001b[0m\u001b[0;34m\u001b[0m\u001b[0m\n",
      "\u001b[0;32m~/anaconda3/envs/tensorflow/lib/python3.6/site-packages/tensorflow/python/client/session.py\u001b[0m in \u001b[0;36m_run_fn\u001b[0;34m(feed_dict, fetch_list, target_list, options, run_metadata)\u001b[0m\n\u001b[1;32m   1305\u001b[0m       \u001b[0mself\u001b[0m\u001b[0;34m.\u001b[0m\u001b[0m_extend_graph\u001b[0m\u001b[0;34m(\u001b[0m\u001b[0;34m)\u001b[0m\u001b[0;34m\u001b[0m\u001b[0m\n\u001b[1;32m   1306\u001b[0m       return self._call_tf_sessionrun(\n\u001b[0;32m-> 1307\u001b[0;31m           options, feed_dict, fetch_list, target_list, run_metadata)\n\u001b[0m\u001b[1;32m   1308\u001b[0m \u001b[0;34m\u001b[0m\u001b[0m\n\u001b[1;32m   1309\u001b[0m     \u001b[0;32mdef\u001b[0m \u001b[0m_prun_fn\u001b[0m\u001b[0;34m(\u001b[0m\u001b[0mhandle\u001b[0m\u001b[0;34m,\u001b[0m \u001b[0mfeed_dict\u001b[0m\u001b[0;34m,\u001b[0m \u001b[0mfetch_list\u001b[0m\u001b[0;34m)\u001b[0m\u001b[0;34m:\u001b[0m\u001b[0;34m\u001b[0m\u001b[0m\n",
      "\u001b[0;32m~/anaconda3/envs/tensorflow/lib/python3.6/site-packages/tensorflow/python/client/session.py\u001b[0m in \u001b[0;36m_call_tf_sessionrun\u001b[0;34m(self, options, feed_dict, fetch_list, target_list, run_metadata)\u001b[0m\n\u001b[1;32m   1407\u001b[0m       return tf_session.TF_SessionRun_wrapper(\n\u001b[1;32m   1408\u001b[0m           \u001b[0mself\u001b[0m\u001b[0;34m.\u001b[0m\u001b[0m_session\u001b[0m\u001b[0;34m,\u001b[0m \u001b[0moptions\u001b[0m\u001b[0;34m,\u001b[0m \u001b[0mfeed_dict\u001b[0m\u001b[0;34m,\u001b[0m \u001b[0mfetch_list\u001b[0m\u001b[0;34m,\u001b[0m \u001b[0mtarget_list\u001b[0m\u001b[0;34m,\u001b[0m\u001b[0;34m\u001b[0m\u001b[0m\n\u001b[0;32m-> 1409\u001b[0;31m           run_metadata)\n\u001b[0m\u001b[1;32m   1410\u001b[0m     \u001b[0;32melse\u001b[0m\u001b[0;34m:\u001b[0m\u001b[0;34m\u001b[0m\u001b[0m\n\u001b[1;32m   1411\u001b[0m       \u001b[0;32mwith\u001b[0m \u001b[0merrors\u001b[0m\u001b[0;34m.\u001b[0m\u001b[0mraise_exception_on_not_ok_status\u001b[0m\u001b[0;34m(\u001b[0m\u001b[0;34m)\u001b[0m \u001b[0;32mas\u001b[0m \u001b[0mstatus\u001b[0m\u001b[0;34m:\u001b[0m\u001b[0;34m\u001b[0m\u001b[0m\n",
      "\u001b[0;31mKeyboardInterrupt\u001b[0m: "
     ]
    }
   ],
   "source": [
    "load = True\n",
    "init_op=tf.global_variables_initializer()\n",
    "local_init_op=tf.local_variables_initializer()\n",
    "epochs = 100\n",
    "\n",
    "config=tf.ConfigProto()\n",
    "config.gpu_options.allow_growth=True\n",
    "\n",
    "with tf.Session() as sess:\n",
    "    sess.run(init_op)\n",
    "    sess.run(local_init_op)\n",
    "    sess.run(training_init_op)\n",
    "    sess.run(model.pretrained())\n",
    "    saver = tf.train.Saver()\n",
    "    if load:\n",
    "        saver.restore(\"./file0\" + \".ckpt\")\n",
    "    for epoch in range(epochs):\n",
    "        for _ in range(897): # 28709 / 32\n",
    "            sess.run(train, {is_train: True})\n",
    "            # re-initialize the iterator, but this time with validation data\n",
    "            sess.run(validation_init_op)\n",
    "            for _ in range(120): # \n",
    "                sess.run(accuracy_op, {is_train: False})\n",
    "                  \n",
    "            print(\"Accumulated validation accuracy is {:.2f}%\".format(sess.run(accuracy)*100))\n",
    "            saver.save(sess, \"./file\" + \"{}.ckpt\".format(epoch))"
   ]
  },
  {
   "cell_type": "code",
   "execution_count": null,
   "metadata": {},
   "outputs": [],
   "source": []
  }
 ],
 "metadata": {
  "kernelspec": {
   "display_name": "Python 3",
   "language": "python",
   "name": "python3"
  },
  "language_info": {
   "codemirror_mode": {
    "name": "ipython",
    "version": 3
   },
   "file_extension": ".py",
   "mimetype": "text/x-python",
   "name": "python",
   "nbconvert_exporter": "python",
   "pygments_lexer": "ipython3",
   "version": "3.6.6"
  }
 },
 "nbformat": 4,
 "nbformat_minor": 2
}
