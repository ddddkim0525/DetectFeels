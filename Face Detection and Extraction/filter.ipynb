{
 "cells": [
  {
   "cell_type": "code",
   "execution_count": 1,
   "metadata": {},
   "outputs": [],
   "source": [
    "import dlib\n",
    "from PIL import Image\n",
    "from util import import_csv\n",
    "import numpy as np \n",
    "import csv"
   ]
  },
  {
   "cell_type": "code",
   "execution_count": 2,
   "metadata": {},
   "outputs": [
    {
     "name": "stdout",
     "output_type": "stream",
     "text": [
      "Data length:  35887\n",
      "image size:  2304\n"
     ]
    }
   ],
   "source": [
    "#Load Dataset\n",
    "filename = \"fer2013.csv\"\n",
    "data_set = import_csv(filename)\n",
    "label_set = import_csv(filename,False)\n",
    "\n",
    "print(\"Data length: \", len(data_set))\n",
    "print(\"image size: \",len(data_set[0]))"
   ]
  },
  {
   "cell_type": "code",
   "execution_count": 3,
   "metadata": {},
   "outputs": [],
   "source": [
    "#Using HOG detector, change to dnn later.\n",
    "face_detector = dlib.get_frontal_face_detector()"
   ]
  },
  {
   "cell_type": "code",
   "execution_count": 4,
   "metadata": {},
   "outputs": [],
   "source": [
    "for i,data in reversed(list(enumerate(data_set))):\n",
    "    # Load the image into an array\n",
    "    reformat_data = np.asarray(data)\n",
    "    reformat_data.resize(48,48)\n",
    "    image = Image.fromarray(reformat_data.astype('uint8'))\n",
    "\n",
    "    detected_faces = face_detector(reformat_data.astype('uint8'),1)\n",
    "\n",
    "    if (not detected_faces):\n",
    "        data_set.pop(i)\n",
    "        label_set.pop(i) "
   ]
  },
  {
   "cell_type": "code",
   "execution_count": 5,
   "metadata": {},
   "outputs": [
    {
     "name": "stdout",
     "output_type": "stream",
     "text": [
      "Final Data: 24942\n"
     ]
    }
   ],
   "source": [
    "print(\"Final Data:\", len(data_set))"
   ]
  },
  {
   "cell_type": "code",
   "execution_count": 11,
   "metadata": {},
   "outputs": [],
   "source": [
    "#Export csv file\n",
    "resultFile = open('filtered.csv','w')\n",
    "validFile = open('valid.csv','w')\n",
    "\n",
    "wr = csv.writer(resultFile)\n",
    "wv = csv.writer(validFile)\n",
    "\n",
    "wr.writerow(['emotion','pixels'])\n",
    "wv.writerow(['emotion','pixels'])\n",
    "\n",
    "for i in range(len(data_set)):\n",
    "    data = ' '.join([str(i) for i in data_set[i]])\n",
    "    if( i < int(len(data_set)*0.8)):\n",
    "        wr.writerow([label_set[i],data])\n",
    "    else:\n",
    "        wv.writerow([label_set[i],data])\n"
   ]
  },
  {
   "cell_type": "code",
   "execution_count": null,
   "metadata": {},
   "outputs": [],
   "source": []
  },
  {
   "cell_type": "code",
   "execution_count": null,
   "metadata": {},
   "outputs": [],
   "source": []
  }
 ],
 "metadata": {
  "kernelspec": {
   "display_name": "Python 3",
   "language": "python",
   "name": "python3"
  },
  "language_info": {
   "codemirror_mode": {
    "name": "ipython",
    "version": 3
   },
   "file_extension": ".py",
   "mimetype": "text/x-python",
   "name": "python",
   "nbconvert_exporter": "python",
   "pygments_lexer": "ipython3",
   "version": "3.6.5"
  }
 },
 "nbformat": 4,
 "nbformat_minor": 2
}
